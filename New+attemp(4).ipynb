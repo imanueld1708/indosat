{
 "cells": [
  {
   "cell_type": "code",
   "execution_count": 1,
   "metadata": {
    "collapsed": true
   },
   "outputs": [],
   "source": [
    "import pandas as pd\n",
    "import numpy as np\n",
    "import matplotlib.pyplot as plt\n",
    "import seaborn as sns\n",
    "import csv\n",
    "import math\n",
    "from sklearn.metrics.pairwise import cosine_similarity\n",
    "from sklearn.metrics.pairwise import euclidean_distances\n",
    "from random import shuffle"
   ]
  },
  {
   "cell_type": "markdown",
   "metadata": {},
   "source": [
    "## Import Usage & Subs Dataset"
   ]
  },
  {
   "cell_type": "code",
   "execution_count": 212,
   "metadata": {
    "collapsed": true
   },
   "outputs": [],
   "source": [
    "fulldataset = pd.read_csv(\"newdataset.csv\", delimiter=\",\")\n",
    "usagedataset = pd.read_csv(\"usage_new.csv\", delimiter=\",\")\n",
    "#converting the data from int to str. [:-2] will get rid the .0 (float decimal)\n",
    "usagedataset[\"msisdn\"] = [\"0\"+str(i)[:-2] for i in usagedataset[\"msisdn\"]]\n",
    "usagedataset[\"invoicenumber\"] = [\"0\"+str(i)[:-2] for i in usagedataset[\"invoicenumber\"]]\n",
    "usagedataset[\"accountnumber\"] = [\"0\"+str(i)[:-2] for i in usagedataset[\"accountnumber\"]]\n",
    "\n",
    "#setup iscorptreatment == 1\n",
    "corporate_db = fulldataset.loc[fulldataset[\"iscorptreatment\"] == 1]\n",
    "corporate_db = corporate_db.reset_index()\n",
    "del corporate_db[\"index\"]\n",
    "del corporate_db[\"iscorptreatment\"]\n",
    "corporate_db[\"msisdn\"] = [\"0\"+str(i) for i in corporate_db[\"msisdn\"]]\n",
    "corporate_db[\"invoicenumber\"] = [\"0\"+str(i) for i in corporate_db[\"invoicenumber\"]]\n",
    "corporate_db[\"accountnumber\"] = [\"0\"+str(i) for i in corporate_db[\"accountnumber\"]]\n",
    "\n",
    "#setup iscorptreatment == 0\n",
    "private_db = fulldataset.loc[fulldataset[\"iscorptreatment\"] == 0]\n",
    "private_db = private_db.reset_index()\n",
    "del private_db[\"index\"]\n",
    "del private_db[\"iscorptreatment\"]\n",
    "private_db[\"msisdn\"] = [\"0\" + str(i) for i in private_db[\"msisdn\"]]\n",
    "private_db[\"invoicenumber\"] = [\"0\"+str(i) for i in private_db[\"invoicenumber\"]]\n",
    "private_db[\"accountnumber\"] = [\"0\"+str(i) for i in private_db[\"accountnumber\"]]\n",
    "\n",
    "combine = pd.merge(left = corporate_db, right=usagedataset, how = \"left\", left_on = \"invoicenumber\", right_on = \"invoicenumber\")"
   ]
  },
  {
   "cell_type": "markdown",
   "metadata": {},
   "source": [
    "## Tidying Data"
   ]
  },
  {
   "cell_type": "code",
   "execution_count": 213,
   "metadata": {
    "collapsed": true,
    "scrolled": false
   },
   "outputs": [],
   "source": [
    "tmp = []\n",
    "combine[\"item\"] = [str(i) for i in combine[\"item\"]]\n",
    "for i in combine[\"item\"]:\n",
    "    #print(i)\n",
    "    if(i[0:4] == \"DATA\"):\n",
    "        i = \"Data\"\n",
    "    elif(i[0:11] == \"SMS Content\"):\n",
    "        i = \"SMS Content\"\n",
    "    elif(i[0:14] == \"Super Internet\"):\n",
    "        i = \"SuperInternet\"\n",
    "    tmp.append(i)\n",
    "combine[\"item\"] = tmp"
   ]
  },
  {
   "cell_type": "markdown",
   "metadata": {},
   "source": [
    "## Getting Probability of occurence of an item\n",
    "Save as df--> item & prob"
   ]
  },
  {
   "cell_type": "code",
   "execution_count": 214,
   "metadata": {
    "scrolled": true
   },
   "outputs": [],
   "source": [
    "items = list(set(combine[\"item\"]))\n",
    "X = []\n",
    "for i in items:\n",
    "    counter = 0\n",
    "    for j in combine.values:        \n",
    "        if(j[27] == i):\n",
    "            counter = counter + 1\n",
    "    X.append((i, counter/len(combine.values)))\n",
    "df = pd.DataFrame(X)\n",
    "df.columns = [\"item\", \"probability\"]"
   ]
  },
  {
   "cell_type": "markdown",
   "metadata": {},
   "source": [
    "## For every invoicenumber, get their items.\n",
    "Save as invoiceitem --> invoicenumber & item"
   ]
  },
  {
   "cell_type": "code",
   "execution_count": 217,
   "metadata": {},
   "outputs": [],
   "source": [
    "person = []\n",
    "for i in corporate_db.values:\n",
    "    items = []\n",
    "    for j in combine.values:\n",
    "        if(i[1] == j[1]):\n",
    "            items.append(j[27])\n",
    "    person.append((i[1],items))\n",
    "invoiceitem = pd.DataFrame(person)\n",
    "invoiceitem.columns = [\"invoicenumber\", \"item\"]"
   ]
  },
  {
   "cell_type": "markdown",
   "metadata": {},
   "source": [
    "## For every invoice number, get their discount.\n",
    "Discount would be divided to the thismonthbill in advanced, to get the percentage of them.\n",
    "Save as invoicediscount --> invoicenumber & discount"
   ]
  },
  {
   "cell_type": "code",
   "execution_count": 221,
   "metadata": {
    "scrolled": true
   },
   "outputs": [],
   "source": [
    "#Divide the discount with thismonthbill, to get known how much persentage of the discount compare \n",
    "x = []\n",
    "for i in range (len(corporate_db[\"discount\"])):\n",
    "    if(corporate_db[\"thismonthbill\"][i] != 0):\n",
    "        tmp = corporate_db[\"discount\"][i]/corporate_db[\"thismonthbill\"][i]\n",
    "        x.append(tmp*-1)\n",
    "    else:\n",
    "        x.append(0)\n",
    "#x = [((i*-1)-min(x))/(max(x)-(min(x))) for i in x]\n",
    "  \n",
    "corporate_db[\"discount\"] = [i for i in x]\n",
    "invoicediscount = corporate_db[[\"invoicenumber\", \"discount\"]]"
   ]
  },
  {
   "cell_type": "markdown",
   "metadata": {},
   "source": [
    "## Find Similarity of usage(sms,data,voice) between each data points.\n",
    "Using euclidean distance(Usage B - Usage A)\n",
    "closest will return a list of 10 closest distance that the bill is cheaper than the targeted input"
   ]
  },
  {
   "cell_type": "code",
   "execution_count": 349,
   "metadata": {
    "scrolled": false
   },
   "outputs": [
    {
     "name": "stdout",
     "output_type": "stream",
     "text": [
      "['08161663578' '0172940316' 20151230 '03297072' 1 '28/12/2015' 1777274\n",
      " 2570510 2570510 6 'CUG UKM Mandiri 95K' '72012' 423136 2702 4443281.727\n",
      " 2046 0 0 -9091 0 0 2100 2334100 3.2147678865283544 0\n",
      " array([423136, 2702, 4443281.727], dtype=object)]\n"
     ]
    },
    {
     "data": {
      "text/plain": [
       "[(array([[ 487075.89191319]]), 44963, '0167534406', 574),\n",
       " (array([[ 491155.33626918]]), 141900, '0167531229', 780),\n",
       " (array([[ 483132.54392214]]), 328900, '0167529757', 942),\n",
       " (array([[ 492780.83152247]]), 331900, '0167503506', 2047),\n",
       " (array([[ 533094.6285724]]), 371209, '0167507623', 183),\n",
       " (array([[ 561567.20037652]]), 443275, '0167538001', 1046),\n",
       " (array([[ 507129.17407683]]), 443779, '0167467261', 1914),\n",
       " (array([[ 532211.38252029]]), 529980, '0167564554', 834)]"
      ]
     },
     "execution_count": 349,
     "metadata": {},
     "output_type": "execute_result"
    }
   ],
   "source": [
    "corporate_db[\"usage_list\"] = [i for i in corporate_db.values[:,12:15]]\n",
    "A = []\n",
    "\n",
    "index = 3\n",
    "\n",
    "for j in range(len(corporate_db[\"usage_list\"])):\n",
    "    if(j != index):\n",
    "        distance = euclidean_distances([corporate_db[\"usage_list\"][index]], [corporate_db[\"usage_list\"][j]])\n",
    "        A.append((distance, corporate_db[\"thismonthbill\"][j], corporate_db[\"invoicenumber\"][j], j))\n",
    "        \n",
    "A.sort()\n",
    "closest = A[:10]\n",
    "closest.sort(key=lambda tup: tup[1])\n",
    "print(corporate_db.values[index])\n",
    "\n",
    "closest = [i for i in closest if(i[1]<corporate_db[\"thismonthbill\"][index])]\n",
    "closest"
   ]
  },
  {
   "cell_type": "markdown",
   "metadata": {},
   "source": [
    "## Find Probability of getting discount > its mean."
   ]
  },
  {
   "cell_type": "code",
   "execution_count": 350,
   "metadata": {},
   "outputs": [],
   "source": [
    "itemdiscount = pd.merge(left = invoiceitem, right=invoicediscount, how = \"left\", left_on = \"invoicenumber\", right_on = \"invoicenumber\")\n",
    "invoice_number = [i[2] for i in closest]\n",
    "mean = itemdiscount[\"discount\"].mean()\n",
    "counter = 0\n",
    "for i in itemdiscount[\"discount\"]:\n",
    "    if(i>mean):\n",
    "        counter = counter+1\n",
    "Pdiscountmean = round((counter/len(itemdiscount[\"discount\"])),5)"
   ]
  },
  {
   "cell_type": "markdown",
   "metadata": {},
   "source": [
    "## Getting The item list from the targeted input & its 10 closest neighboor.\n",
    "Targeted_item = targeted input's item list\n",
    "all_items = itemlist from 10 closest"
   ]
  },
  {
   "cell_type": "code",
   "execution_count": 355,
   "metadata": {
    "scrolled": false
   },
   "outputs": [
    {
     "name": "stdout",
     "output_type": "stream",
     "text": [
      "0167507623  12.534302778219278\n",
      "0167538001  9.24647002425131\n",
      "0167467261  9.358966963285779\n",
      "0167564554  7.976885920223404\n"
     ]
    }
   ],
   "source": [
    "targeted_item = combine.item.loc[combine[\"invoicenumber\"] == corporate_db[\"invoicenumber\"][index]].tolist()\n",
    "all_items = []\n",
    "for i in invoice_number:\n",
    "    for j in itemdiscount.values:\n",
    "        if(j[0] == i):\n",
    "            all_items.append(j)\n",
    "\n",
    "X = []            \n",
    "for j in all_items:\n",
    "    mean = itemdiscount[\"discount\"].mean()\n",
    "    \n",
    "    for i in targeted_item:\n",
    "        if((i in j[1]) & (j[2]>mean)):\n",
    "            X.append((j[0],j[2]))\n",
    "            print(j[0] + \" \" +\" \" + str(j[2]))\n",
    "            break"
   ]
  },
  {
   "cell_type": "markdown",
   "metadata": {},
   "source": [
    "## From the biggest discount from above, get the invoicenumber."
   ]
  },
  {
   "cell_type": "code",
   "execution_count": 348,
   "metadata": {},
   "outputs": [
    {
     "name": "stdout",
     "output_type": "stream",
     "text": [
      "183    [Banking, SMS, Panggilan Lokal / Domestic Call...\n",
      "Name: item, dtype: object\n",
      "3    [SuperInternet, SMS, Banking, Renewal 2000, Su...\n",
      "Name: item, dtype: object\n"
     ]
    }
   ],
   "source": [
    "print(itemdiscount.item.loc[corporate_db[\"invoicenumber\"] == \"0167507623\"])\n",
    "\n",
    "print(itemdiscount.item.loc[corporate_db[\"invoicenumber\"] == \"0172940316\"])\n",
    "#Binning the selected dataset.\n",
    "#fulldataset[\"DISCOUNT\"] = pd.qcut(fulldataset[\"DISCOUNT\"],10,duplicates=\"drop\")\n",
    "#merged_left[\"DISCOUNT\"] = pd.qcut(merged_left[\"DISCOUNT\"],10,duplicates=\"drop\")"
   ]
  }
 ],
 "metadata": {
  "kernelspec": {
   "display_name": "Python 3",
   "language": "python",
   "name": "python3"
  },
  "language_info": {
   "codemirror_mode": {
    "name": "ipython",
    "version": 3
   },
   "file_extension": ".py",
   "mimetype": "text/x-python",
   "name": "python",
   "nbconvert_exporter": "python",
   "pygments_lexer": "ipython3",
   "version": "3.6.3"
  }
 },
 "nbformat": 4,
 "nbformat_minor": 2
}
