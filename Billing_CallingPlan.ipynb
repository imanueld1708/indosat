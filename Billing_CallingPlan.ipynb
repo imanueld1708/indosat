{
 "cells": [
  {
   "cell_type": "code",
   "execution_count": null,
   "metadata": {},
   "outputs": [],
   "source": [
    "import pandas as pd\n",
    "import numpy as np\n",
    "with open(\"output/CUST_MERGE.csv\", 'r') as csvfile:\n",
    "    billing = pd.read_csv(csvfile,delimiter=\"|\",converters={'INVOICENUMBER': lambda x: str(x)})\n",
    "\n",
    "# The names of all the columns in the data.\n",
    "print(billing.columns.values)"
   ]
  },
  {
   "cell_type": "code",
   "execution_count": null,
   "metadata": {},
   "outputs": [],
   "source": [
    "billing[\"INVOICENUMBER\"]"
   ]
  },
  {
   "cell_type": "code",
   "execution_count": null,
   "metadata": {
    "collapsed": true
   },
   "outputs": [],
   "source": [
    "def euclidean_distance(row):\n",
    "    \"\"\"\n",
    "    A simple euclidean distance function\n",
    "    \"\"\"\n",
    "    inner_value = 0\n",
    "    for k in distance_columns:\n",
    "        inner_value += (row[k] - selected_player[k]) ** 2\n",
    "    return math.sqrt(inner_value)"
   ]
  },
  {
   "cell_type": "code",
   "execution_count": null,
   "metadata": {},
   "outputs": [],
   "source": [
    "selected_invoice = billing.query('INVOICENUMBER == \"0167483542\"').iloc[0]"
   ]
  },
  {
   "cell_type": "code",
   "execution_count": null,
   "metadata": {},
   "outputs": [],
   "source": [
    "selected_invoice"
   ]
  },
  {
   "cell_type": "code",
   "execution_count": null,
   "metadata": {},
   "outputs": [],
   "source": [
    "\n",
    "\n",
    "\n",
    "# Choose only the numeric columns (we'll use these to compute euclidean distance)\n",
    "distance_columns = ['MONTHLYFEE', 'THISMONTHBILL', 'TOTALBILLING', 'VOICE', 'SMS', 'DATA', 'LOCALCHARGES', 'LONGDISTANCE', 'IDDCHARGES', 'IRCHARGES', 'VIDEOCHARGES', 'SMSCHARGES', 'DATACHARGES', 'SUBTOTAL', 'DISCOUNT']\n",
    "\n",
    "# Select only the numeric columns from the NBA dataset\n",
    "billing_numeric = billing[distance_columns]\n",
    "\n",
    "# Normalize all of the numeric columns\n",
    "billing_normalized = (billing_numeric - billing_numeric.mean()) / billing_numeric.std()\n",
    "billing_normalized"
   ]
  },
  {
   "cell_type": "markdown",
   "metadata": {},
   "source": [
    "# Normalizing data"
   ]
  },
  {
   "cell_type": "code",
   "execution_count": null,
   "metadata": {},
   "outputs": [],
   "source": [
    "from scipy.spatial import distance\n",
    "\n",
    "# Fill in NA values in billing\n",
    "billing_normalized.fillna(0, inplace=True)\n",
    "billing_normalized\n",
    "\n"
   ]
  },
  {
   "cell_type": "code",
   "execution_count": 179,
   "metadata": {},
   "outputs": [
    {
     "name": "stdout",
     "output_type": "stream",
     "text": [
      "     INVOICENUMBER                   CALLINGPLAN\n",
      "4557    0167479887  Indosat Mobile Free Abonemen\n"
     ]
    }
   ],
   "source": [
    "# Find the normalized vector for the selected invoice.\n",
    "h = billing[\"INVOICENUMBER\"] == \"0167483542\"\n",
    "selected_normalized = billing_normalized[billing['INVOICENUMBER'] == \"0167483542\"]\n",
    "\n",
    "\n",
    "# Find the distance between selected invoice and everyone else.\n",
    "euclidean_distances = billing_normalized.apply(lambda row: distance.euclidean(row, selected_normalized), axis=1)\n",
    "\n",
    "# Create a new dataframe with distances.\n",
    "distance_frame = pd.DataFrame(data={\"dist\": euclidean_distances, \"idx\": euclidean_distances.index})\n",
    "distance_frame.sort_values(\"dist\", inplace=True)\n",
    "# Find the most similar invoice to selected invoice (the lowest distance to selected inv is itself, the second smallest is the most similar other invoices)\n",
    "\n",
    "\n",
    "ten_smallest = distance_frame.iloc[1:10][\"idx\"]\n",
    "\n",
    "most_similar_to_selected = billing.loc[ten_smallest]\n",
    "\n",
    "#sort by smallest bill amount\n",
    "result = most_similar_to_selected.sort_values(['SUBTOTAL'], ascending=[1])\n",
    "res = result[['INVOICENUMBER','CALLINGPLAN']]\n",
    "#print the recommenda\n",
    "print(res[0:1])"
   ]
  },
  {
   "cell_type": "code",
   "execution_count": null,
   "metadata": {
    "collapsed": true
   },
   "outputs": [],
   "source": []
  }
 ],
 "metadata": {
  "kernelspec": {
   "display_name": "Python 3",
   "language": "python",
   "name": "python3"
  },
  "language_info": {
   "codemirror_mode": {
    "name": "ipython",
    "version": 3
   },
   "file_extension": ".py",
   "mimetype": "text/x-python",
   "name": "python",
   "nbconvert_exporter": "python",
   "pygments_lexer": "ipython3",
   "version": "3.6.3"
  }
 },
 "nbformat": 4,
 "nbformat_minor": 2
}
